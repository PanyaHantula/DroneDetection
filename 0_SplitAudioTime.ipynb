{
 "cells": [
  {
   "cell_type": "markdown",
   "id": "593c95aa",
   "metadata": {},
   "source": [
    "# Data Pre-Processing \n",
    "Load original audio file (3 Sec) and convert to 1 second audio file (dataset). Name of new audio files is \"Done_date time\". The new file auto save as to \"train\" folder. In train folder is seperate to 2 folder that are a Drone folder and a No Drone folder."
   ]
  },
  {
   "cell_type": "code",
   "execution_count": 1,
   "id": "0668c28d",
   "metadata": {},
   "outputs": [],
   "source": [
    "import os\n",
    "import librosa # type: ignore\n",
    "from scipy.io import wavfile    # type: ignore"
   ]
  },
  {
   "cell_type": "code",
   "execution_count": 2,
   "id": "1a097dae",
   "metadata": {},
   "outputs": [
    {
     "name": "stdout",
     "output_type": "stream",
     "text": [
      "/Users/panya/Project-ALL/DroneClassification/Original DataSet/Drones-rec/Export/-71.wav\n",
      "/Users/panya/Project-ALL/DroneClassification/Original DataSet/Drones-rec/Export/-65.wav\n",
      "/Users/panya/Project-ALL/DroneClassification/Original DataSet/Drones-rec/Export/-59.wav\n",
      "/Users/panya/Project-ALL/DroneClassification/Original DataSet/Drones-rec/Export/-58.wav\n",
      "/Users/panya/Project-ALL/DroneClassification/Original DataSet/Drones-rec/Export/-64.wav\n",
      "/Users/panya/Project-ALL/DroneClassification/Original DataSet/Drones-rec/Export/-70.wav\n",
      "/Users/panya/Project-ALL/DroneClassification/Original DataSet/Drones-rec/Export/-66.wav\n",
      "/Users/panya/Project-ALL/DroneClassification/Original DataSet/Drones-rec/Export/-72.wav\n",
      "/Users/panya/Project-ALL/DroneClassification/Original DataSet/Drones-rec/Export/-73.wav\n",
      "/Users/panya/Project-ALL/DroneClassification/Original DataSet/Drones-rec/Export/-67.wav\n",
      "/Users/panya/Project-ALL/DroneClassification/Original DataSet/Drones-rec/Export/.DS_Store\n",
      "Error File name : /Users/panya/Project-ALL/DroneClassification/Original DataSet/Drones-rec/Export/.DS_Store\n",
      "/Users/panya/Project-ALL/DroneClassification/Original DataSet/Drones-rec/Export/-63.wav\n",
      "/Users/panya/Project-ALL/DroneClassification/Original DataSet/Drones-rec/Export/-77.wav\n",
      "/Users/panya/Project-ALL/DroneClassification/Original DataSet/Drones-rec/Export/-76.wav\n",
      "/Users/panya/Project-ALL/DroneClassification/Original DataSet/Drones-rec/Export/-62.wav\n",
      "/Users/panya/Project-ALL/DroneClassification/Original DataSet/Drones-rec/Export/-48.wav\n"
     ]
    },
    {
     "name": "stderr",
     "output_type": "stream",
     "text": [
      "/var/folders/30/l0wngnb94zn7v2w3gg2pjbr80000gn/T/ipykernel_82965/1867914337.py:14: UserWarning: PySoundFile failed. Trying audioread instead.\n",
      "  audio, sample_rate = librosa.load(audio_path)  # Load audio and limit to 3 seconds\n",
      "/Users/panya/Library/Python/3.9/lib/python/site-packages/librosa/core/audio.py:184: FutureWarning: librosa.core.audio.__audioread_load\n",
      "\tDeprecated as of librosa version 0.10.0.\n",
      "\tIt will be removed in librosa version 1.0.\n",
      "  y, sr_native = __audioread_load(path, offset, duration, dtype)\n"
     ]
    },
    {
     "name": "stdout",
     "output_type": "stream",
     "text": [
      "/Users/panya/Project-ALL/DroneClassification/Original DataSet/Drones-rec/Export/-74.wav\n",
      "/Users/panya/Project-ALL/DroneClassification/Original DataSet/Drones-rec/Export/-60.wav\n",
      "/Users/panya/Project-ALL/DroneClassification/Original DataSet/Drones-rec/Export/-61.wav\n",
      "/Users/panya/Project-ALL/DroneClassification/Original DataSet/Drones-rec/Export/-75.wav\n",
      "/Users/panya/Project-ALL/DroneClassification/Original DataSet/Drones-rec/Export/-49.wav\n",
      "/Users/panya/Project-ALL/DroneClassification/Original DataSet/Drones-rec/Export/-12.wav\n",
      "/Users/panya/Project-ALL/DroneClassification/Original DataSet/Drones-rec/Export/-06.wav\n",
      "/Users/panya/Project-ALL/DroneClassification/Original DataSet/Drones-rec/Export/-07.wav\n",
      "/Users/panya/Project-ALL/DroneClassification/Original DataSet/Drones-rec/Export/-13.wav\n",
      "/Users/panya/Project-ALL/DroneClassification/Original DataSet/Drones-rec/Export/-05.wav\n",
      "/Users/panya/Project-ALL/DroneClassification/Original DataSet/Drones-rec/Export/-11.wav\n",
      "/Users/panya/Project-ALL/DroneClassification/Original DataSet/Drones-rec/Export/-39.wav\n",
      "/Users/panya/Project-ALL/DroneClassification/Original DataSet/Drones-rec/Export/-38.wav\n",
      "/Users/panya/Project-ALL/DroneClassification/Original DataSet/Drones-rec/Export/-10.wav\n",
      "/Users/panya/Project-ALL/DroneClassification/Original DataSet/Drones-rec/Export/-04.wav\n",
      "/Users/panya/Project-ALL/DroneClassification/Original DataSet/Drones-rec/Export/-28.wav\n",
      "/Users/panya/Project-ALL/DroneClassification/Original DataSet/Drones-rec/Export/-14.wav\n",
      "/Users/panya/Project-ALL/DroneClassification/Original DataSet/Drones-rec/Export/-15.wav\n",
      "/Users/panya/Project-ALL/DroneClassification/Original DataSet/Drones-rec/Export/-01.wav\n",
      "/Users/panya/Project-ALL/DroneClassification/Original DataSet/Drones-rec/Export/-29.wav\n",
      "/Users/panya/Project-ALL/DroneClassification/Original DataSet/Drones-rec/Export/-17.wav\n",
      "/Users/panya/Project-ALL/DroneClassification/Original DataSet/Drones-rec/Export/-03.wav\n",
      "/Users/panya/Project-ALL/DroneClassification/Original DataSet/Drones-rec/Export/-02.wav\n",
      "/Users/panya/Project-ALL/DroneClassification/Original DataSet/Drones-rec/Export/-16.wav\n",
      "/Users/panya/Project-ALL/DroneClassification/Original DataSet/Drones-rec/Export/-33.wav\n",
      "/Users/panya/Project-ALL/DroneClassification/Original DataSet/Drones-rec/Export/-27.wav\n",
      "/Users/panya/Project-ALL/DroneClassification/Original DataSet/Drones-rec/Export/-26.wav\n",
      "/Users/panya/Project-ALL/DroneClassification/Original DataSet/Drones-rec/Export/-32.wav\n",
      "/Users/panya/Project-ALL/DroneClassification/Original DataSet/Drones-rec/Export/-24.wav\n",
      "/Users/panya/Project-ALL/DroneClassification/Original DataSet/Drones-rec/Export/-30.wav\n",
      "/Users/panya/Project-ALL/DroneClassification/Original DataSet/Drones-rec/Export/-18.wav\n",
      "/Users/panya/Project-ALL/DroneClassification/Original DataSet/Drones-rec/Export/-19.wav\n",
      "/Users/panya/Project-ALL/DroneClassification/Original DataSet/Drones-rec/Export/-31.wav\n",
      "/Users/panya/Project-ALL/DroneClassification/Original DataSet/Drones-rec/Export/-25.wav\n",
      "/Users/panya/Project-ALL/DroneClassification/Original DataSet/Drones-rec/Export/-09.wav\n",
      "/Users/panya/Project-ALL/DroneClassification/Original DataSet/Drones-rec/Export/-21.wav\n",
      "/Users/panya/Project-ALL/DroneClassification/Original DataSet/Drones-rec/Export/-35.wav\n",
      "/Users/panya/Project-ALL/DroneClassification/Original DataSet/Drones-rec/Export/-34.wav\n",
      "/Users/panya/Project-ALL/DroneClassification/Original DataSet/Drones-rec/Export/-20.wav\n",
      "/Users/panya/Project-ALL/DroneClassification/Original DataSet/Drones-rec/Export/-08.wav\n",
      "/Users/panya/Project-ALL/DroneClassification/Original DataSet/Drones-rec/Export/-36.wav\n",
      "/Users/panya/Project-ALL/DroneClassification/Original DataSet/Drones-rec/Export/-22.wav\n",
      "/Users/panya/Project-ALL/DroneClassification/Original DataSet/Drones-rec/Export/-23.wav\n",
      "/Users/panya/Project-ALL/DroneClassification/Original DataSet/Drones-rec/Export/-37.wav\n",
      "/Users/panya/Project-ALL/DroneClassification/Original DataSet/Drones-rec/Export/-50.wav\n",
      "/Users/panya/Project-ALL/DroneClassification/Original DataSet/Drones-rec/Export/-44.wav\n",
      "/Users/panya/Project-ALL/DroneClassification/Original DataSet/Drones-rec/Export/-78.wav\n",
      "/Users/panya/Project-ALL/DroneClassification/Original DataSet/Drones-rec/Export/-79.wav\n",
      "/Users/panya/Project-ALL/DroneClassification/Original DataSet/Drones-rec/Export/-45.wav\n",
      "/Users/panya/Project-ALL/DroneClassification/Original DataSet/Drones-rec/Export/-51.wav\n",
      "/Users/panya/Project-ALL/DroneClassification/Original DataSet/Drones-rec/Export/-47.wav\n",
      "/Users/panya/Project-ALL/DroneClassification/Original DataSet/Drones-rec/Export/-53.wav\n",
      "/Users/panya/Project-ALL/DroneClassification/Original DataSet/Drones-rec/Export/-52.wav\n",
      "/Users/panya/Project-ALL/DroneClassification/Original DataSet/Drones-rec/Export/-46.wav\n",
      "/Users/panya/Project-ALL/DroneClassification/Original DataSet/Drones-rec/Export/-42.wav\n",
      "/Users/panya/Project-ALL/DroneClassification/Original DataSet/Drones-rec/Export/-56.wav\n",
      "/Users/panya/Project-ALL/DroneClassification/Original DataSet/Drones-rec/Export/-80.wav\n",
      "/Users/panya/Project-ALL/DroneClassification/Original DataSet/Drones-rec/Export/-57.wav\n",
      "/Users/panya/Project-ALL/DroneClassification/Original DataSet/Drones-rec/Export/-43.wav\n",
      "/Users/panya/Project-ALL/DroneClassification/Original DataSet/Drones-rec/Export/-69.wav\n",
      "/Users/panya/Project-ALL/DroneClassification/Original DataSet/Drones-rec/Export/-55.wav\n",
      "/Users/panya/Project-ALL/DroneClassification/Original DataSet/Drones-rec/Export/-41.wav\n",
      "/Users/panya/Project-ALL/DroneClassification/Original DataSet/Drones-rec/Export/-40.wav\n",
      "/Users/panya/Project-ALL/DroneClassification/Original DataSet/Drones-rec/Export/-54.wav\n",
      "/Users/panya/Project-ALL/DroneClassification/Original DataSet/Drones-rec/Export/-68.wav\n",
      "Total file to split : 5672\n"
     ]
    }
   ],
   "source": [
    "# Set the path to dataset folder\n",
    "path = \"/Users/panya/Project-ALL/DroneClassification/Original DataSet/Drones-rec/Export\"\n",
    "path_save = \"/Users/panya/Project-ALL/DroneClassification/Original DataSet/Drones-rec/Drone_1Sec/\"\n",
    "count = 2153\n",
    "Sample_range = 22000    # In sample rate is 22050 Hz, Sample 22000 that is 1 second time preiod\n",
    "\n",
    "label_dir = os.path.join(path)\n",
    "for audio_file in os.listdir(label_dir):\n",
    "    audio_path = os.path.join(label_dir, audio_file)\n",
    "    print(audio_path)\n",
    "    \n",
    "    try:\n",
    "        # Load Audio File\n",
    "        audio, sample_rate = librosa.load(audio_path)  # Load audio and limit to 3 seconds\n",
    "        \n",
    "        # if (len(audio) // 22000) < 1:\n",
    "        #     print(f'Error File : {audio_path}')\n",
    "            \n",
    "        for i in range(len(audio) // 22000):\n",
    "            y = audio[i*Sample_range : (i + 1 )*Sample_range]\n",
    "            WaveFileName = path_save + \"Drone_\" + str(count) + \".wav\"  \n",
    "            wavfile.write(WaveFileName, sample_rate, y)\n",
    "            count = count + 1\n",
    "    except:\n",
    "        print(f\"Error File name : {audio_path}\")\n",
    "\n",
    "print(\"Total file to split : \" + str(count - 1))"
   ]
  },
  {
   "cell_type": "code",
   "execution_count": null,
   "id": "f2d71184",
   "metadata": {},
   "outputs": [],
   "source": [
    "audio, sample_rate = librosa.load('./dataset/sound/Drone/mixed_membo_17-membo_004_.wav')  # Load audio and limit to 3 seconds\n",
    "print(len(audio))"
   ]
  },
  {
   "cell_type": "code",
   "execution_count": null,
   "id": "5357c49b",
   "metadata": {},
   "outputs": [],
   "source": [
    "audio_file = path_save + \"/NoDrone_0.wav\"  # Replace with your audio file path\n",
    "\n",
    "y, fs = librosa.load(audio_file)  # , duration=20)\n",
    "timesDuration = librosa.get_duration(y=y, sr=fs)\n",
    "\n",
    "print('Check audio data set')\n",
    "print(f'Sampling Rate: {fs} Hz')\n",
    "print(f'Audio Duration: {timesDuration:.0f} seconds')\n",
    "print(y.shape)"
   ]
  }
 ],
 "metadata": {
  "kernelspec": {
   "display_name": "Python 3",
   "language": "python",
   "name": "python3"
  },
  "language_info": {
   "codemirror_mode": {
    "name": "ipython",
    "version": 3
   },
   "file_extension": ".py",
   "mimetype": "text/x-python",
   "name": "python",
   "nbconvert_exporter": "python",
   "pygments_lexer": "ipython3",
   "version": "3.9.6"
  }
 },
 "nbformat": 4,
 "nbformat_minor": 5
}
